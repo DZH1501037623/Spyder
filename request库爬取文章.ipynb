{
 "cells": [
  {
   "cell_type": "code",
   "execution_count": 2,
   "metadata": {},
   "outputs": [],
   "source": [
    "# 引入requests库\n",
    "import requests\n",
    "\n",
    "# 发出请求，并把返回的结果放在变量res中\n",
    "res = requests.get('https://localprod.pandateacher.com/python-manuscript/crawler-html/sanguo.md')\n",
    "# 把Reponse对象的内容以二进制数据的形式返回\n",
    "k = res.text\n",
    "# 新建了一个文件ppt.jpg，这里的文件没加路径，它会被保存在程序运行的当前目录下。\n",
    "# 图片内容需要以二进制wb读写。你在学习open()函数时接触过它。\n",
    "text = open('《三国演义》.txt','a+')\n",
    "# 获取pic的二进制内容\n",
    "text.write(k) \n",
    "# 关闭文件\n",
    "text.close()"
   ]
  },
  {
   "cell_type": "code",
   "execution_count": null,
   "metadata": {},
   "outputs": [],
   "source": []
  }
 ],
 "metadata": {
  "kernelspec": {
   "display_name": "Python 3",
   "language": "python",
   "name": "python3"
  },
  "language_info": {
   "codemirror_mode": {
    "name": "ipython",
    "version": 3
   },
   "file_extension": ".py",
   "mimetype": "text/x-python",
   "name": "python",
   "nbconvert_exporter": "python",
   "pygments_lexer": "ipython3",
   "version": "3.7.6"
  }
 },
 "nbformat": 4,
 "nbformat_minor": 4
}
